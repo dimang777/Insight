{
 "cells": [
  {
   "cell_type": "markdown",
   "metadata": {},
   "source": [
    "Similar Wine Search Engine\n",
    "- LCBO website data scraping\n",
    "<img src=\"LCBO example product.png\" alt=\"Drawing\" style=\"width: 500px;\"/>\n",
    "\n",
    "\n",
    "'LCBO_id', 'Price', 'Name', 'Description', 'Size', \n",
    "'Alcohol', 'Madein_city', 'Madein_country', 'Brand', 'Sugar',\n",
    "'Sweetness', 'Style1', 'Style2', 'Variety', 'Featured_wines', 'Recomm_foods'\n",
    "\n",
    "- Red wine category\n",
    "- 5527 wine products\n",
    "- Removed products with missing data\n",
    "- 2890 products\n",
    "- Final features used \n",
    "\n",
    "Numerical \n",
    "'Price', 'Sugar', 'Alcohol', \n",
    "\n",
    "Categorical\n",
    "'Sweetness', 'Style1', 'Style2', 'Variety'"
   ]
  },
  {
   "cell_type": "code",
   "execution_count": 5,
   "metadata": {},
   "outputs": [],
   "source": [
    "import pandas as pd\n",
    "import numpy as np"
   ]
  },
  {
   "cell_type": "markdown",
   "metadata": {},
   "source": [
    "Define functions"
   ]
  },
  {
   "cell_type": "code",
   "execution_count": 6,
   "metadata": {},
   "outputs": [],
   "source": [
    "def gower_numer_dist(df, category, idx1, idx2):\n",
    "# numerical distance (dissimilarity) \n",
    "# d_i_j_f = |x1 - x2|/(max(X)-min(X))\n",
    "    # print(df[category][idx1], df[category][idx2])\n",
    "    return np.abs(df[category][idx1] - df[category][idx2]) \\\n",
    "    /(df[category].max() - df[category].min())\n",
    "    \n",
    "def gower_qual_dist(df, category, idx1, idx2):\n",
    "# qualitative distance (dissimilarity) - 1 if different; 0 if same\n",
    "    # print(df[category][idx1], df[category][idx2])\n",
    "    return int(df[category][idx1] != df[category][idx2])\n",
    "    \n",
    "def gower_dist(df, idx):\n",
    "    # Gower distance\n",
    "    # Source: https://towardsdatascience.com/clustering-on-mixed-type-data-8bbd0a2569c3\n",
    "    # Source: https://stat.ethz.ch/education/semesters/ss2012/ams/slides/v4.2.pdf\n",
    "    # Sample use\n",
    "    # gower_dist(rw_df_mvp, [0, 1])\n",
    "    [idx1, idx2] = idx\n",
    "    categories = ['Price', 'Sugar', 'Alcohol', 'Sweetness', 'Style1', 'Style2', 'Variety']\n",
    "    gower_dist_list = []\n",
    "    for idx in range(3):\n",
    "        gower_dist_list.append(gower_numer_dist(df, categories[idx], idx1, idx2))\n",
    "        \n",
    "    for idx in range(3,7):\n",
    "        gower_dist_list.append(gower_qual_dist(df, categories[idx], idx1, idx2))\n",
    "    # print(gower_dist_list)\n",
    "    return sum(gower_dist_list)/len(gower_dist_list)"
   ]
  },
  {
   "cell_type": "markdown",
   "metadata": {},
   "source": [
    "Load wine data"
   ]
  },
  {
   "cell_type": "code",
   "execution_count": 12,
   "metadata": {},
   "outputs": [],
   "source": [
    "rw_df_mvp = pd.read_excel('rw_df_mvp.xlsx')\n",
    "columns_to_show = ['Name', 'Price', 'Sugar', 'Alcohol', 'Sweetness', 'Style1', 'Style2', 'Variety']"
   ]
  },
  {
   "cell_type": "markdown",
   "metadata": {},
   "source": [
    "Sample data"
   ]
  },
  {
   "cell_type": "code",
   "execution_count": 14,
   "metadata": {},
   "outputs": [
    {
     "name": "stdout",
     "output_type": "stream",
     "text": [
      "Name         20 Bees Cabernet Merlot VQA\n",
      "Price                              12.95\n",
      "Sugar                                  9\n",
      "Alcohol                             12.2\n",
      "Sweetness                        D - Dry\n",
      "Style1                            Fruity\n",
      "Style2                     Medium-bodied\n",
      "Variety                  Cabernet/Merlot\n",
      "Name: 10, dtype: object\n"
     ]
    }
   ],
   "source": [
    "product_idx = 10\n",
    "print(rw_df_mvp.loc[product_idx, columns_to_show])"
   ]
  },
  {
   "cell_type": "markdown",
   "metadata": {},
   "source": [
    "Insert the product number"
   ]
  },
  {
   "cell_type": "code",
   "execution_count": 18,
   "metadata": {},
   "outputs": [
    {
     "name": "stdout",
     "output_type": "stream",
     "text": [
      "Name         14 Hands Winery Cabernet Sauvignon 2016\n",
      "Price                                          17.95\n",
      "Sugar                                             10\n",
      "Alcohol                                         13.5\n",
      "Sweetness                             XD - Extra Dry\n",
      "Style1                                        Fruity\n",
      "Style2                                 Medium-bodied\n",
      "Variety                     Cabernet Sauvignon Blend\n",
      "Name: 5, dtype: object\n"
     ]
    }
   ],
   "source": [
    "product_idx = 5\n",
    "print(rw_df_mvp.loc[product_idx, columns_to_show])"
   ]
  },
  {
   "cell_type": "markdown",
   "metadata": {},
   "source": [
    "Recommendation generation\n",
    "<img src=\"MVP Gower distance.png\" alt=\"Drawing\" style=\"width: 500px;\"/>"
   ]
  },
  {
   "cell_type": "code",
   "execution_count": 24,
   "metadata": {},
   "outputs": [
    {
     "name": "stdout",
     "output_type": "stream",
     "text": [
      "0.0%\n",
      "6.920415224913495%\n",
      "13.84083044982699%\n",
      "20.761245674740483%\n",
      "27.68166089965398%\n",
      "34.602076124567475%\n",
      "41.522491349480966%\n",
      "48.44290657439446%\n",
      "55.36332179930796%\n",
      "62.28373702422145%\n",
      "69.20415224913495%\n",
      "76.12456747404845%\n",
      "83.04498269896193%\n",
      "89.96539792387543%\n",
      "96.88581314878893%\n",
      "100%\n"
     ]
    }
   ],
   "source": [
    "\n",
    "for idx in range(len(rw_df_mvp)):\n",
    "    if product_idx != idx:\n",
    "        if not np.mod(idx, 200):\n",
    "            print(str(idx/len(rw_df_mvp)*100) + '%')\n",
    "        elif idx+1 == len(rw_df_mvp):\n",
    "            print('100%')\n",
    "        columns = ('Num', 'Gower_dist')\n",
    "        data = {}   \n",
    "\n",
    "    data[columns[0]] = [idx]\n",
    "    data[columns[1]] = [gower_dist(rw_df_mvp, (product_idx, idx))]\n",
    "\n",
    "    if idx == 0:\n",
    "        gower_dist_one = pd.DataFrame(data)\n",
    "    else:\n",
    "        gower_dist_one = pd.concat([gower_dist_one, pd.DataFrame(data)])       \n",
    "\n",
    "\n",
    "gower_dist_one_sorted = gower_dist_one.sort_values(by=['Gower_dist'])\n",
    "sorted_list_gower = gower_dist_one_sorted['Gower_dist'].to_numpy()\n",
    "\n",
    "sorted_list_num = gower_dist_one_sorted['Num'].to_numpy()\n",
    "recommedation_list = []\n",
    "\n",
    "idx = 0\n",
    "count = 0\n",
    "while count < 3:\n",
    "    # print('idx' + str(idx))\n",
    "    if sorted_list_gower[idx] != 0:\n",
    "        # print('count'+str(count))\n",
    "        recommedation_list.append(sorted_list_num[idx])\n",
    "        count = count + 1\n",
    "    idx = idx + 1        "
   ]
  },
  {
   "cell_type": "markdown",
   "metadata": {},
   "source": [
    "Display results and compare to the original product"
   ]
  },
  {
   "cell_type": "code",
   "execution_count": 25,
   "metadata": {},
   "outputs": [
    {
     "name": "stdout",
     "output_type": "stream",
     "text": [
      "Name         14 Hands Winery Cabernet Sauvignon 2016\n",
      "Price                                          17.95\n",
      "Sugar                                             10\n",
      "Alcohol                                         13.5\n",
      "Sweetness                             XD - Extra Dry\n",
      "Style1                                        Fruity\n",
      "Style2                                 Medium-bodied\n",
      "Variety                     Cabernet Sauvignon Blend\n",
      "Name: 5, dtype: object\n",
      "Name         Sebastiani Lake County Sonoma County Cabernet ...\n",
      "Price                                                    24.75\n",
      "Sugar                                                        4\n",
      "Alcohol                                                   13.5\n",
      "Sweetness                                       XD - Extra Dry\n",
      "Style1                                                  Fruity\n",
      "Style2                                           Medium-bodied\n",
      "Variety                               Cabernet Sauvignon Blend\n",
      "Name: 2370, dtype: object\n",
      "Name         Avalon Lodi Cab Cabernet Sauvignon 2016\n",
      "Price                                          15.75\n",
      "Sugar                                              7\n",
      "Alcohol                                         13.8\n",
      "Sweetness                             XD - Extra Dry\n",
      "Style1                                        Fruity\n",
      "Style2                                 Medium-bodied\n",
      "Variety                     Cabernet Sauvignon Blend\n",
      "Name: 140, dtype: object\n",
      "Name         Kendall-Jackson Vintner's Reserve Cabernet Sau...\n",
      "Price                                                    27.95\n",
      "Sugar                                                        2\n",
      "Alcohol                                                   13.5\n",
      "Sweetness                                       XD - Extra Dry\n",
      "Style1                                                  Fruity\n",
      "Style2                                           Medium-bodied\n",
      "Variety                               Cabernet Sauvignon Blend\n",
      "Name: 1469, dtype: object\n"
     ]
    }
   ],
   "source": [
    "print(rw_df_mvp.loc[product_idx, columns_to_show])\n",
    "print(rw_df_mvp.loc[recommedation_list[0], columns_to_show])\n",
    "print(rw_df_mvp.loc[recommedation_list[1], columns_to_show])\n",
    "print(rw_df_mvp.loc[recommedation_list[2], columns_to_show])\n"
   ]
  },
  {
   "cell_type": "code",
   "execution_count": null,
   "metadata": {},
   "outputs": [],
   "source": []
  }
 ],
 "metadata": {
  "kernelspec": {
   "display_name": "Python 3",
   "language": "python",
   "name": "python3"
  },
  "language_info": {
   "codemirror_mode": {
    "name": "ipython",
    "version": 3
   },
   "file_extension": ".py",
   "mimetype": "text/x-python",
   "name": "python",
   "nbconvert_exporter": "python",
   "pygments_lexer": "ipython3",
   "version": "3.7.3"
  }
 },
 "nbformat": 4,
 "nbformat_minor": 2
}
